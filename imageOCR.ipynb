{
 "cells": [
  {
   "cell_type": "code",
   "execution_count": null,
   "metadata": {},
   "outputs": [],
   "source": [
    "from pytesseract import *\n",
    "from PIL import Image\n",
    "import cv2\n",
    "import os\n",
    "import numpy as np"
   ]
  },
  {
   "cell_type": "code",
   "execution_count": null,
   "metadata": {},
   "outputs": [],
   "source": [
    "path = 'D:/image4'\n",
    "imagePaths = [os.path.join(path,file_name) for file_name in os.listdir(path)]\n",
    "for imagePath in imagePaths:\n",
    "    img = Image.open(imagePath).convert('L')\n",
    "    img_numpy = np.array(img, 'uint8')\n",
    "    cv2.imwrite('image\\\\'+imagePath.split('\\\\')[-1], img_numpy)\n",
    "print('All Done')"
   ]
  },
  {
   "cell_type": "code",
   "execution_count": null,
   "metadata": {},
   "outputs": [],
   "source": [
    "#이미지 크기 조절\n",
    "src = cv2.imread(\"D:/image4/5.png\", cv2.IMREAD_COLOR)\n",
    "\n",
    "dst = cv2.resize(src, dsize=(1200, 1200), interpolation=cv2.INTER_LINEAR)\n",
    "dst2 = cv2.resize(src, dsize=(0, 0), fx=0.3, fy=0.7, interpolation=cv2.INTER_LINEAR)\n",
    "\n",
    "\n",
    "# cv2.imshow(\"dst\", dst)\n",
    "\n",
    "\n",
    "path = 'D:/image4'\n",
    "cv2.imwrite(os.path.join(path , 'final5.png'), dst)\n",
    "cv2.waitKey(0)"
   ]
  },
  {
   "cell_type": "code",
   "execution_count": null,
   "metadata": {},
   "outputs": [],
   "source": [
    "#이미지 자르기\n",
    "\n",
    "src = cv2.imread(\"D:/image4/final5.png\", cv2.IMREAD_COLOR)\n",
    "\n",
    "dst = src.copy() \n",
    "dst = src[350:-250, 30:]\n",
    "\n",
    "path = 'D:/image4'\n",
    "cv2.imwrite(os.path.join(path , 'final5.png'), dst)\n",
    "cv2.waitKey(0)\n",
    "cv2.destroyAllWindows()"
   ]
  },
  {
   "cell_type": "code",
   "execution_count": null,
   "metadata": {},
   "outputs": [],
   "source": [
    "#하나의 사진을 처리할 경우 \n",
    "t=[]\n",
    "\n",
    "filename = 'D:\\/image4/final5.png'\n",
    "image=Image.open(filename)\n",
    "text = image_to_string(image, lang=\"eng\")\n",
    "t.append(text)\n",
    "tt=' '.join(t)\n",
    "\n",
    "with open('D:\\/image4/final55.txt','w') as f:\n",
    "    f.write(tt)"
   ]
  }
 ],
 "metadata": {
  "kernelspec": {
   "display_name": "Python 3",
   "language": "python",
   "name": "python3"
  },
  "language_info": {
   "codemirror_mode": {
    "name": "ipython",
    "version": 3
   },
   "file_extension": ".py",
   "mimetype": "text/x-python",
   "name": "python",
   "nbconvert_exporter": "python",
   "pygments_lexer": "ipython3",
   "version": "3.7.4"
  }
 },
 "nbformat": 4,
 "nbformat_minor": 2
}
